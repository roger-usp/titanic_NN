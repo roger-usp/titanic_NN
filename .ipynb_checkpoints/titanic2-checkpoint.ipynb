{
 "cells": [
  {
   "cell_type": "code",
   "execution_count": 1,
   "id": "48cbd678",
   "metadata": {},
   "outputs": [],
   "source": [
    "import pandas as pd\n",
    "import numpy as np\n",
    "import math\n",
    "from layer import *  # HiddenLayer, LastLayer\n",
    "from network import * # Network"
   ]
  },
  {
   "cell_type": "code",
   "execution_count": 2,
   "id": "da27e14e",
   "metadata": {},
   "outputs": [],
   "source": [
    "train_x = pd.read_csv(\"DataPreprocessing/train_x.csv\")\n",
    "train_y = pd.read_csv(\"DataPreprocessing/train_y.csv\")\n",
    "test_x = pd.read_csv(\"DataPreprocessing/test_x.csv\")"
   ]
  },
  {
   "cell_type": "markdown",
   "id": "befc1521",
   "metadata": {},
   "source": [
    "### train_x"
   ]
  },
  {
   "cell_type": "code",
   "execution_count": 3,
   "id": "0cec598d",
   "metadata": {},
   "outputs": [
    {
     "name": "stdout",
     "output_type": "stream",
     "text": [
      "Shape: (891, 1128)\n"
     ]
    },
    {
     "data": {
      "text/html": [
       "<div>\n",
       "<style scoped>\n",
       "    .dataframe tbody tr th:only-of-type {\n",
       "        vertical-align: middle;\n",
       "    }\n",
       "\n",
       "    .dataframe tbody tr th {\n",
       "        vertical-align: top;\n",
       "    }\n",
       "\n",
       "    .dataframe thead th {\n",
       "        text-align: right;\n",
       "    }\n",
       "</style>\n",
       "<table border=\"1\" class=\"dataframe\">\n",
       "  <thead>\n",
       "    <tr style=\"text-align: right;\">\n",
       "      <th></th>\n",
       "      <th>PassengerId</th>\n",
       "      <th>Sex</th>\n",
       "      <th>Age</th>\n",
       "      <th>SibSp</th>\n",
       "      <th>Parch</th>\n",
       "      <th>Fare</th>\n",
       "      <th>Embarked_C</th>\n",
       "      <th>Embarked_Q</th>\n",
       "      <th>Embarked_S</th>\n",
       "      <th>Cabin_A10</th>\n",
       "      <th>...</th>\n",
       "      <th>Ticket_W./C. 14266</th>\n",
       "      <th>Ticket_W./C. 6607</th>\n",
       "      <th>Ticket_W./C. 6608</th>\n",
       "      <th>Ticket_W./C. 6609</th>\n",
       "      <th>Ticket_W.E.P. 5734</th>\n",
       "      <th>Ticket_W/C 14208</th>\n",
       "      <th>Ticket_WE/P 5735</th>\n",
       "      <th>Pclass_1</th>\n",
       "      <th>Pclass_2</th>\n",
       "      <th>Pclass_3</th>\n",
       "    </tr>\n",
       "  </thead>\n",
       "  <tbody>\n",
       "    <tr>\n",
       "      <th>0</th>\n",
       "      <td>1</td>\n",
       "      <td>1</td>\n",
       "      <td>0.273456</td>\n",
       "      <td>1</td>\n",
       "      <td>0</td>\n",
       "      <td>0.014151</td>\n",
       "      <td>0</td>\n",
       "      <td>0</td>\n",
       "      <td>1</td>\n",
       "      <td>0</td>\n",
       "      <td>...</td>\n",
       "      <td>0</td>\n",
       "      <td>0</td>\n",
       "      <td>0</td>\n",
       "      <td>0</td>\n",
       "      <td>0</td>\n",
       "      <td>0</td>\n",
       "      <td>0</td>\n",
       "      <td>0</td>\n",
       "      <td>0</td>\n",
       "      <td>1</td>\n",
       "    </tr>\n",
       "    <tr>\n",
       "      <th>1</th>\n",
       "      <td>2</td>\n",
       "      <td>0</td>\n",
       "      <td>0.473882</td>\n",
       "      <td>1</td>\n",
       "      <td>0</td>\n",
       "      <td>0.139136</td>\n",
       "      <td>1</td>\n",
       "      <td>0</td>\n",
       "      <td>0</td>\n",
       "      <td>0</td>\n",
       "      <td>...</td>\n",
       "      <td>0</td>\n",
       "      <td>0</td>\n",
       "      <td>0</td>\n",
       "      <td>0</td>\n",
       "      <td>0</td>\n",
       "      <td>0</td>\n",
       "      <td>0</td>\n",
       "      <td>1</td>\n",
       "      <td>0</td>\n",
       "      <td>0</td>\n",
       "    </tr>\n",
       "    <tr>\n",
       "      <th>2</th>\n",
       "      <td>3</td>\n",
       "      <td>0</td>\n",
       "      <td>0.323563</td>\n",
       "      <td>0</td>\n",
       "      <td>0</td>\n",
       "      <td>0.015469</td>\n",
       "      <td>0</td>\n",
       "      <td>0</td>\n",
       "      <td>1</td>\n",
       "      <td>0</td>\n",
       "      <td>...</td>\n",
       "      <td>0</td>\n",
       "      <td>0</td>\n",
       "      <td>0</td>\n",
       "      <td>0</td>\n",
       "      <td>0</td>\n",
       "      <td>0</td>\n",
       "      <td>0</td>\n",
       "      <td>0</td>\n",
       "      <td>0</td>\n",
       "      <td>1</td>\n",
       "    </tr>\n",
       "    <tr>\n",
       "      <th>3</th>\n",
       "      <td>4</td>\n",
       "      <td>0</td>\n",
       "      <td>0.436302</td>\n",
       "      <td>1</td>\n",
       "      <td>0</td>\n",
       "      <td>0.103644</td>\n",
       "      <td>0</td>\n",
       "      <td>0</td>\n",
       "      <td>1</td>\n",
       "      <td>0</td>\n",
       "      <td>...</td>\n",
       "      <td>0</td>\n",
       "      <td>0</td>\n",
       "      <td>0</td>\n",
       "      <td>0</td>\n",
       "      <td>0</td>\n",
       "      <td>0</td>\n",
       "      <td>0</td>\n",
       "      <td>1</td>\n",
       "      <td>0</td>\n",
       "      <td>0</td>\n",
       "    </tr>\n",
       "    <tr>\n",
       "      <th>4</th>\n",
       "      <td>5</td>\n",
       "      <td>1</td>\n",
       "      <td>0.436302</td>\n",
       "      <td>0</td>\n",
       "      <td>0</td>\n",
       "      <td>0.015713</td>\n",
       "      <td>0</td>\n",
       "      <td>0</td>\n",
       "      <td>1</td>\n",
       "      <td>0</td>\n",
       "      <td>...</td>\n",
       "      <td>0</td>\n",
       "      <td>0</td>\n",
       "      <td>0</td>\n",
       "      <td>0</td>\n",
       "      <td>0</td>\n",
       "      <td>0</td>\n",
       "      <td>0</td>\n",
       "      <td>0</td>\n",
       "      <td>0</td>\n",
       "      <td>1</td>\n",
       "    </tr>\n",
       "  </tbody>\n",
       "</table>\n",
       "<p>5 rows × 1128 columns</p>\n",
       "</div>"
      ],
      "text/plain": [
       "   PassengerId  Sex       Age  SibSp  Parch      Fare  Embarked_C  Embarked_Q  \\\n",
       "0            1    1  0.273456      1      0  0.014151           0           0   \n",
       "1            2    0  0.473882      1      0  0.139136           1           0   \n",
       "2            3    0  0.323563      0      0  0.015469           0           0   \n",
       "3            4    0  0.436302      1      0  0.103644           0           0   \n",
       "4            5    1  0.436302      0      0  0.015713           0           0   \n",
       "\n",
       "   Embarked_S  Cabin_A10  ...  Ticket_W./C. 14266  Ticket_W./C. 6607  \\\n",
       "0           1          0  ...                   0                  0   \n",
       "1           0          0  ...                   0                  0   \n",
       "2           1          0  ...                   0                  0   \n",
       "3           1          0  ...                   0                  0   \n",
       "4           1          0  ...                   0                  0   \n",
       "\n",
       "   Ticket_W./C. 6608  Ticket_W./C. 6609  Ticket_W.E.P. 5734  Ticket_W/C 14208  \\\n",
       "0                  0                  0                   0                 0   \n",
       "1                  0                  0                   0                 0   \n",
       "2                  0                  0                   0                 0   \n",
       "3                  0                  0                   0                 0   \n",
       "4                  0                  0                   0                 0   \n",
       "\n",
       "   Ticket_WE/P 5735  Pclass_1  Pclass_2  Pclass_3  \n",
       "0                 0         0         0         1  \n",
       "1                 0         1         0         0  \n",
       "2                 0         0         0         1  \n",
       "3                 0         1         0         0  \n",
       "4                 0         0         0         1  \n",
       "\n",
       "[5 rows x 1128 columns]"
      ]
     },
     "metadata": {},
     "output_type": "display_data"
    }
   ],
   "source": [
    "print(\"Shape:\", train_x.shape)\n",
    "display(train_x.head())"
   ]
  },
  {
   "cell_type": "markdown",
   "id": "503a013d",
   "metadata": {},
   "source": [
    "### train_y"
   ]
  },
  {
   "cell_type": "code",
   "execution_count": 4,
   "id": "28cdbba6",
   "metadata": {},
   "outputs": [
    {
     "name": "stdout",
     "output_type": "stream",
     "text": [
      "Shape: (891, 2)\n"
     ]
    },
    {
     "data": {
      "text/html": [
       "<div>\n",
       "<style scoped>\n",
       "    .dataframe tbody tr th:only-of-type {\n",
       "        vertical-align: middle;\n",
       "    }\n",
       "\n",
       "    .dataframe tbody tr th {\n",
       "        vertical-align: top;\n",
       "    }\n",
       "\n",
       "    .dataframe thead th {\n",
       "        text-align: right;\n",
       "    }\n",
       "</style>\n",
       "<table border=\"1\" class=\"dataframe\">\n",
       "  <thead>\n",
       "    <tr style=\"text-align: right;\">\n",
       "      <th></th>\n",
       "      <th>PassengerId</th>\n",
       "      <th>Survived</th>\n",
       "    </tr>\n",
       "  </thead>\n",
       "  <tbody>\n",
       "    <tr>\n",
       "      <th>0</th>\n",
       "      <td>1</td>\n",
       "      <td>0</td>\n",
       "    </tr>\n",
       "    <tr>\n",
       "      <th>1</th>\n",
       "      <td>2</td>\n",
       "      <td>1</td>\n",
       "    </tr>\n",
       "    <tr>\n",
       "      <th>2</th>\n",
       "      <td>3</td>\n",
       "      <td>1</td>\n",
       "    </tr>\n",
       "    <tr>\n",
       "      <th>3</th>\n",
       "      <td>4</td>\n",
       "      <td>1</td>\n",
       "    </tr>\n",
       "    <tr>\n",
       "      <th>4</th>\n",
       "      <td>5</td>\n",
       "      <td>0</td>\n",
       "    </tr>\n",
       "  </tbody>\n",
       "</table>\n",
       "</div>"
      ],
      "text/plain": [
       "   PassengerId  Survived\n",
       "0            1         0\n",
       "1            2         1\n",
       "2            3         1\n",
       "3            4         1\n",
       "4            5         0"
      ]
     },
     "metadata": {},
     "output_type": "display_data"
    }
   ],
   "source": [
    "print(\"Shape:\", train_y.shape)\n",
    "display(train_y.head())"
   ]
  },
  {
   "cell_type": "markdown",
   "id": "55bdfe95",
   "metadata": {},
   "source": [
    "### test_x"
   ]
  },
  {
   "cell_type": "code",
   "execution_count": 5,
   "id": "687f3256",
   "metadata": {},
   "outputs": [
    {
     "name": "stdout",
     "output_type": "stream",
     "text": [
      "Shape: (418, 1128)\n"
     ]
    },
    {
     "data": {
      "text/html": [
       "<div>\n",
       "<style scoped>\n",
       "    .dataframe tbody tr th:only-of-type {\n",
       "        vertical-align: middle;\n",
       "    }\n",
       "\n",
       "    .dataframe tbody tr th {\n",
       "        vertical-align: top;\n",
       "    }\n",
       "\n",
       "    .dataframe thead th {\n",
       "        text-align: right;\n",
       "    }\n",
       "</style>\n",
       "<table border=\"1\" class=\"dataframe\">\n",
       "  <thead>\n",
       "    <tr style=\"text-align: right;\">\n",
       "      <th></th>\n",
       "      <th>PassengerId</th>\n",
       "      <th>Sex</th>\n",
       "      <th>Age</th>\n",
       "      <th>SibSp</th>\n",
       "      <th>Parch</th>\n",
       "      <th>Fare</th>\n",
       "      <th>Embarked_C</th>\n",
       "      <th>Embarked_Q</th>\n",
       "      <th>Embarked_S</th>\n",
       "      <th>Cabin_A10</th>\n",
       "      <th>...</th>\n",
       "      <th>Ticket_W./C. 14266</th>\n",
       "      <th>Ticket_W./C. 6607</th>\n",
       "      <th>Ticket_W./C. 6608</th>\n",
       "      <th>Ticket_W./C. 6609</th>\n",
       "      <th>Ticket_W.E.P. 5734</th>\n",
       "      <th>Ticket_W/C 14208</th>\n",
       "      <th>Ticket_WE/P 5735</th>\n",
       "      <th>Pclass_1</th>\n",
       "      <th>Pclass_2</th>\n",
       "      <th>Pclass_3</th>\n",
       "    </tr>\n",
       "  </thead>\n",
       "  <tbody>\n",
       "    <tr>\n",
       "      <th>0</th>\n",
       "      <td>892</td>\n",
       "      <td>1</td>\n",
       "      <td>0.430039</td>\n",
       "      <td>0</td>\n",
       "      <td>0</td>\n",
       "      <td>0.015282</td>\n",
       "      <td>0</td>\n",
       "      <td>1</td>\n",
       "      <td>0</td>\n",
       "      <td>0</td>\n",
       "      <td>...</td>\n",
       "      <td>0</td>\n",
       "      <td>0</td>\n",
       "      <td>0</td>\n",
       "      <td>0</td>\n",
       "      <td>0</td>\n",
       "      <td>0</td>\n",
       "      <td>0</td>\n",
       "      <td>0</td>\n",
       "      <td>0</td>\n",
       "      <td>1</td>\n",
       "    </tr>\n",
       "    <tr>\n",
       "      <th>1</th>\n",
       "      <td>893</td>\n",
       "      <td>0</td>\n",
       "      <td>0.586622</td>\n",
       "      <td>1</td>\n",
       "      <td>0</td>\n",
       "      <td>0.013663</td>\n",
       "      <td>0</td>\n",
       "      <td>0</td>\n",
       "      <td>1</td>\n",
       "      <td>0</td>\n",
       "      <td>...</td>\n",
       "      <td>0</td>\n",
       "      <td>0</td>\n",
       "      <td>0</td>\n",
       "      <td>0</td>\n",
       "      <td>0</td>\n",
       "      <td>0</td>\n",
       "      <td>0</td>\n",
       "      <td>0</td>\n",
       "      <td>0</td>\n",
       "      <td>1</td>\n",
       "    </tr>\n",
       "    <tr>\n",
       "      <th>2</th>\n",
       "      <td>894</td>\n",
       "      <td>1</td>\n",
       "      <td>0.774521</td>\n",
       "      <td>0</td>\n",
       "      <td>0</td>\n",
       "      <td>0.018909</td>\n",
       "      <td>0</td>\n",
       "      <td>1</td>\n",
       "      <td>0</td>\n",
       "      <td>0</td>\n",
       "      <td>...</td>\n",
       "      <td>0</td>\n",
       "      <td>0</td>\n",
       "      <td>0</td>\n",
       "      <td>0</td>\n",
       "      <td>0</td>\n",
       "      <td>0</td>\n",
       "      <td>0</td>\n",
       "      <td>0</td>\n",
       "      <td>1</td>\n",
       "      <td>0</td>\n",
       "    </tr>\n",
       "    <tr>\n",
       "      <th>3</th>\n",
       "      <td>895</td>\n",
       "      <td>1</td>\n",
       "      <td>0.336089</td>\n",
       "      <td>0</td>\n",
       "      <td>0</td>\n",
       "      <td>0.016908</td>\n",
       "      <td>0</td>\n",
       "      <td>0</td>\n",
       "      <td>1</td>\n",
       "      <td>0</td>\n",
       "      <td>...</td>\n",
       "      <td>0</td>\n",
       "      <td>0</td>\n",
       "      <td>0</td>\n",
       "      <td>0</td>\n",
       "      <td>0</td>\n",
       "      <td>0</td>\n",
       "      <td>0</td>\n",
       "      <td>0</td>\n",
       "      <td>0</td>\n",
       "      <td>1</td>\n",
       "    </tr>\n",
       "    <tr>\n",
       "      <th>4</th>\n",
       "      <td>896</td>\n",
       "      <td>0</td>\n",
       "      <td>0.273456</td>\n",
       "      <td>1</td>\n",
       "      <td>1</td>\n",
       "      <td>0.023984</td>\n",
       "      <td>0</td>\n",
       "      <td>0</td>\n",
       "      <td>1</td>\n",
       "      <td>0</td>\n",
       "      <td>...</td>\n",
       "      <td>0</td>\n",
       "      <td>0</td>\n",
       "      <td>0</td>\n",
       "      <td>0</td>\n",
       "      <td>0</td>\n",
       "      <td>0</td>\n",
       "      <td>0</td>\n",
       "      <td>0</td>\n",
       "      <td>0</td>\n",
       "      <td>1</td>\n",
       "    </tr>\n",
       "  </tbody>\n",
       "</table>\n",
       "<p>5 rows × 1128 columns</p>\n",
       "</div>"
      ],
      "text/plain": [
       "   PassengerId  Sex       Age  SibSp  Parch      Fare  Embarked_C  Embarked_Q  \\\n",
       "0          892    1  0.430039      0      0  0.015282           0           1   \n",
       "1          893    0  0.586622      1      0  0.013663           0           0   \n",
       "2          894    1  0.774521      0      0  0.018909           0           1   \n",
       "3          895    1  0.336089      0      0  0.016908           0           0   \n",
       "4          896    0  0.273456      1      1  0.023984           0           0   \n",
       "\n",
       "   Embarked_S  Cabin_A10  ...  Ticket_W./C. 14266  Ticket_W./C. 6607  \\\n",
       "0           0          0  ...                   0                  0   \n",
       "1           1          0  ...                   0                  0   \n",
       "2           0          0  ...                   0                  0   \n",
       "3           1          0  ...                   0                  0   \n",
       "4           1          0  ...                   0                  0   \n",
       "\n",
       "   Ticket_W./C. 6608  Ticket_W./C. 6609  Ticket_W.E.P. 5734  Ticket_W/C 14208  \\\n",
       "0                  0                  0                   0                 0   \n",
       "1                  0                  0                   0                 0   \n",
       "2                  0                  0                   0                 0   \n",
       "3                  0                  0                   0                 0   \n",
       "4                  0                  0                   0                 0   \n",
       "\n",
       "   Ticket_WE/P 5735  Pclass_1  Pclass_2  Pclass_3  \n",
       "0                 0         0         0         1  \n",
       "1                 0         0         0         1  \n",
       "2                 0         0         1         0  \n",
       "3                 0         0         0         1  \n",
       "4                 0         0         0         1  \n",
       "\n",
       "[5 rows x 1128 columns]"
      ]
     },
     "metadata": {},
     "output_type": "display_data"
    }
   ],
   "source": [
    "print(\"Shape:\", test_x.shape)\n",
    "display(test_x.head())"
   ]
  },
  {
   "cell_type": "code",
   "execution_count": 6,
   "id": "621d5e01",
   "metadata": {},
   "outputs": [],
   "source": [
    "# The PassengerId is not really important either\n",
    "train_x = train_x.drop(\"PassengerId\", axis=1)\n",
    "train_y = train_y.drop(\"PassengerId\", axis=1)\n",
    "test_x = test_x.drop(\"PassengerId\", axis=1)"
   ]
  },
  {
   "attachments": {
    "image.png": {
     "image/png": "[encoded data removed]"
    }
   },
   "cell_type": "markdown",
   "id": "1d2d2c30",
   "metadata": {},
   "source": [
    "In order to use the neural network, the data **MUST BE TRANSPOSED**, to look like this:\n",
    "![image.png](attachment:image.png)\n",
    "For this approach of the titanic exercise $n=1127$"
   ]
  },
  {
   "cell_type": "code",
   "execution_count": 7,
   "id": "8733f6d3",
   "metadata": {},
   "outputs": [],
   "source": [
    "train_x = np.array(train_x).T\n",
    "train_y = np.array(train_y).T\n",
    "test_x = np.array(test_x).T"
   ]
  },
  {
   "cell_type": "code",
   "execution_count": 8,
   "id": "ba61476e",
   "metadata": {},
   "outputs": [
    {
     "data": {
      "text/plain": [
       "(1127, 891)"
      ]
     },
     "execution_count": 8,
     "metadata": {},
     "output_type": "execute_result"
    }
   ],
   "source": [
    "train_x.shape"
   ]
  },
  {
   "cell_type": "code",
   "execution_count": 9,
   "id": "3b1ebd01",
   "metadata": {},
   "outputs": [
    {
     "data": {
      "text/plain": [
       "(1, 891)"
      ]
     },
     "execution_count": 9,
     "metadata": {},
     "output_type": "execute_result"
    }
   ],
   "source": [
    "train_y.shape"
   ]
  },
  {
   "cell_type": "code",
   "execution_count": 10,
   "id": "684b80c8",
   "metadata": {},
   "outputs": [
    {
     "data": {
      "text/plain": [
       "(1127, 418)"
      ]
     },
     "execution_count": 10,
     "metadata": {},
     "output_type": "execute_result"
    }
   ],
   "source": [
    "test_x.shape"
   ]
  },
  {
   "cell_type": "markdown",
   "id": "3a4eb339",
   "metadata": {},
   "source": [
    "# Model - how to use"
   ]
  },
  {
   "cell_type": "code",
   "execution_count": 11,
   "id": "8ffd9468",
   "metadata": {},
   "outputs": [],
   "source": [
    "# First define the activation function\n",
    "def tanh(x):\n",
    "    return np.tanh(x)\n",
    "\n",
    "def tanh_derivative(x):\n",
    "    return 1-np.tanh(x)**2\n",
    "\n",
    "def sigmoid(x):\n",
    "    return 1 / (1 + np.exp(-x))\n",
    "\n",
    "def sigmoid_derivative(x):\n",
    "    sx = sigmoid(x)\n",
    "    return sx * (1 - sx)\n",
    "\n",
    "def relu(x):\n",
    "    return np.maximum(0, x)\n",
    "\n",
    "def relu_derivative(x):\n",
    "    return np.where(x > 0, 1, 0)\n",
    "\n",
    "activation = relu\n",
    "derivative = relu_derivative"
   ]
  },
  {
   "cell_type": "code",
   "execution_count": 12,
   "id": "98ce5a59",
   "metadata": {},
   "outputs": [],
   "source": [
    "# Define the layers\n",
    "hidden1 = HiddenLayer([1127, 50], activation, derivative)\n",
    "out = LastLayer([50, 1], activation, derivative)"
   ]
  },
  {
   "cell_type": "code",
   "execution_count": 13,
   "id": "e9929f58",
   "metadata": {},
   "outputs": [
    {
     "name": "stdout",
     "output_type": "stream",
     "text": [
      "Epoch: 1999\t Erros: [0.08155156]"
     ]
    }
   ],
   "source": [
    "# Train the network\n",
    "net = Network([hidden1,  out])\n",
    "net.fit(train_x, train_y, epochs=2000, learning_rate=0.1)"
   ]
  },
  {
   "cell_type": "code",
   "execution_count": 14,
   "id": "b0dc46a9",
   "metadata": {},
   "outputs": [],
   "source": [
    "# Get the results\n",
    "result = net.foward_propagate(test_x)[-1]  # [-1] because the results are at the end of the list\n",
    "result = [1 if x>=0.5 else 0 for x in result[0]]  # making results binary"
   ]
  },
  {
   "cell_type": "code",
   "execution_count": 15,
   "id": "488d54f9",
   "metadata": {},
   "outputs": [
    {
     "data": {
      "text/html": [
       "<div>\n",
       "<style scoped>\n",
       "    .dataframe tbody tr th:only-of-type {\n",
       "        vertical-align: middle;\n",
       "    }\n",
       "\n",
       "    .dataframe tbody tr th {\n",
       "        vertical-align: top;\n",
       "    }\n",
       "\n",
       "    .dataframe thead th {\n",
       "        text-align: right;\n",
       "    }\n",
       "</style>\n",
       "<table border=\"1\" class=\"dataframe\">\n",
       "  <thead>\n",
       "    <tr style=\"text-align: right;\">\n",
       "      <th></th>\n",
       "      <th>PassengerId</th>\n",
       "      <th>Survived</th>\n",
       "    </tr>\n",
       "  </thead>\n",
       "  <tbody>\n",
       "    <tr>\n",
       "      <th>0</th>\n",
       "      <td>892</td>\n",
       "      <td>0</td>\n",
       "    </tr>\n",
       "    <tr>\n",
       "      <th>1</th>\n",
       "      <td>893</td>\n",
       "      <td>0</td>\n",
       "    </tr>\n",
       "    <tr>\n",
       "      <th>2</th>\n",
       "      <td>894</td>\n",
       "      <td>0</td>\n",
       "    </tr>\n",
       "    <tr>\n",
       "      <th>3</th>\n",
       "      <td>895</td>\n",
       "      <td>0</td>\n",
       "    </tr>\n",
       "    <tr>\n",
       "      <th>4</th>\n",
       "      <td>896</td>\n",
       "      <td>1</td>\n",
       "    </tr>\n",
       "    <tr>\n",
       "      <th>...</th>\n",
       "      <td>...</td>\n",
       "      <td>...</td>\n",
       "    </tr>\n",
       "    <tr>\n",
       "      <th>413</th>\n",
       "      <td>1305</td>\n",
       "      <td>0</td>\n",
       "    </tr>\n",
       "    <tr>\n",
       "      <th>414</th>\n",
       "      <td>1306</td>\n",
       "      <td>1</td>\n",
       "    </tr>\n",
       "    <tr>\n",
       "      <th>415</th>\n",
       "      <td>1307</td>\n",
       "      <td>0</td>\n",
       "    </tr>\n",
       "    <tr>\n",
       "      <th>416</th>\n",
       "      <td>1308</td>\n",
       "      <td>0</td>\n",
       "    </tr>\n",
       "    <tr>\n",
       "      <th>417</th>\n",
       "      <td>1309</td>\n",
       "      <td>1</td>\n",
       "    </tr>\n",
       "  </tbody>\n",
       "</table>\n",
       "<p>418 rows × 2 columns</p>\n",
       "</div>"
      ],
      "text/plain": [
       "     PassengerId  Survived\n",
       "0            892         0\n",
       "1            893         0\n",
       "2            894         0\n",
       "3            895         0\n",
       "4            896         1\n",
       "..           ...       ...\n",
       "413         1305         0\n",
       "414         1306         1\n",
       "415         1307         0\n",
       "416         1308         0\n",
       "417         1309         1\n",
       "\n",
       "[418 rows x 2 columns]"
      ]
     },
     "execution_count": 15,
     "metadata": {},
     "output_type": "execute_result"
    }
   ],
   "source": [
    "results = {\n",
    "    \"PassengerId\": [i for i in range(892, 892+418)],\n",
    "    \"Survived\": result\n",
    "}\n",
    "results = pd.DataFrame(results)\n",
    "results"
   ]
  },
  {
   "cell_type": "code",
   "execution_count": 16,
   "id": "b0a0e157",
   "metadata": {},
   "outputs": [],
   "source": [
    "results.to_csv(\"results.csv\", index=False)"
   ]
  },
  {
   "attachments": {
    "image.png": {
     "image/png": "[encoded data removed]"
    }
   },
   "cell_type": "markdown",
   "id": "308b8a11",
   "metadata": {},
   "source": [
    "# Score: 79,6%\n",
    "![image.png](attachment:image.png)"
   ]
  },
  {
   "cell_type": "markdown",
   "id": "6920b084",
   "metadata": {},
   "source": [
    "https://www.kaggle.com/competitions/titanic/overview"
   ]
  },
  {
   "cell_type": "code",
   "execution_count": null,
   "id": "5f70c7ab",
   "metadata": {},
   "outputs": [],
   "source": []
  }
 ],
 "metadata": {
  "kernelspec": {
   "display_name": "Python 3 (ipykernel)",
   "language": "python",
   "name": "python3"
  },
  "language_info": {
   "codemirror_mode": {
    "name": "ipython",
    "version": 3
   },
   "file_extension": ".py",
   "mimetype": "text/x-python",
   "name": "python",
   "nbconvert_exporter": "python",
   "pygments_lexer": "ipython3",
   "version": "3.10.4"
  }
 },
 "nbformat": 4,
 "nbformat_minor": 5
}
